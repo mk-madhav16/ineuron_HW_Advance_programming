{
 "cells": [
  {
   "cell_type": "code",
   "execution_count": null,
   "id": "472b15c8",
   "metadata": {},
   "outputs": [],
   "source": [
    "#1. Rondo Form is a type of musical structure, in which there is a recurring theme/refrain, notated as A. Here are the rules for valid rondo forms:\n",
    "Rondo forms always start and end with an A section.\n",
    "In between the A sections, there should be contrasting sections notated as B, then C, then D, etc... No letter should be skipped.\n",
    "There shouldn't be any repeats in the sequence (such as ABBACCA).\n",
    "Create a function which validates whether a given string is a valid Rondo Form.\n",
    "\n",
    "Examples:\n",
    "valid_rondo(\"ABACADAEAFAGAHAIAJA\") ➞ True\n",
    "valid_rondo(\"ABA\") ➞ True\n",
    "valid_rondo(\"ABBACCA\") ➞ False\n",
    "valid_rondo(\"ACAC\") ➞ False\n",
    "valid_rondo(\"A\") ➞ False"
   ]
  },
  {
   "cell_type": "code",
   "execution_count": 3,
   "id": "34fdeefb",
   "metadata": {},
   "outputs": [
    {
     "name": "stdout",
     "output_type": "stream",
     "text": [
      "valid_rondo(ABACADAEAFAGAHAIAJA) ➞ True\n",
      "valid_rondo(ABA) ➞ True\n",
      "valid_rondo(ABBACCA) ➞ False\n",
      "valid_rondo(ACAC) ➞ False\n",
      "valid_rondo(A) ➞ False\n"
     ]
    }
   ],
   "source": [
    "#Ans_1\n",
    "def valid_rondo(in_string):\n",
    "    in_string_x = in_string.replace('A','')\n",
    "    in_string_x = list(in_string_x)\n",
    "    output = False\n",
    "    if len(in_string_x) == 1:\n",
    "            output= True\n",
    "    else:\n",
    "        for i in range(len(in_string_x)-1):\n",
    "            if ord(in_string_x[i]) < ord(in_string_x[i+1]):\n",
    "                output= True\n",
    "            else:\n",
    "                output = False\n",
    "                break\n",
    "    print(f\"valid_rondo({in_string}) ➞ {output}\")\n",
    "   \n",
    "valid_rondo(\"ABACADAEAFAGAHAIAJA\")\n",
    "valid_rondo(\"ABA\")\n",
    "valid_rondo(\"ABBACCA\")\n",
    "valid_rondo(\"ACAC\")\n",
    "valid_rondo(\"A\")"
   ]
  },
  {
   "cell_type": "code",
   "execution_count": null,
   "id": "b46591d0",
   "metadata": {},
   "outputs": [],
   "source": [
    "#2. Create a function that returns the whole of the first sentence which contains a specific word. Include the full stop at the end of the sentence.\n",
    "Examples:\n",
    "txt = \"I have a cat. I have a mat. Things are going swell.\"\n",
    "sentence_searcher(txt, \"have\") ➞ \"I have a cat.\"\n",
    "sentence_searcher(txt, \"MAT\") ➞ \"I have a mat.\"\n",
    "sentence_searcher(txt, \"things\") ➞ \"Things are going swell.\"\n",
    "sentence_searcher(txt, \"flat\") ➞ \"\""
   ]
  },
  {
   "cell_type": "code",
   "execution_count": 6,
   "id": "c04c6185",
   "metadata": {},
   "outputs": [
    {
     "name": "stdout",
     "output_type": "stream",
     "text": [
      "sentence_searcher('I have a cat. I have a mat. Things are going swell.', 'have') ➞ I have a cat\n",
      "sentence_searcher('I have a cat. I have a mat. Things are going swell.', 'MAT') ➞ I have a mat\n",
      "sentence_searcher('I have a cat. I have a mat. Things are going swell.', 'things') ➞ Things are going swell.\n",
      "sentence_searcher('I have a cat. I have a mat. Things are going swell.', 'flat') ➞ \"\"\n"
     ]
    }
   ],
   "source": [
    "#Ans_2\n",
    "def sentence_searcher(in_string, search_text):\n",
    "    output = '\"\"'\n",
    "    for i in in_string.split(\". \"):\n",
    "        if len(i.lower().replace(search_text.lower(),'')) != len(i):\n",
    "            output = i\n",
    "            break\n",
    "    print(f'sentence_searcher{in_string,search_text} ➞ {output}')\n",
    "\n",
    "txt = \"I have a cat. I have a mat. Things are going swell.\"\n",
    "\n",
    "sentence_searcher(txt, \"have\")\n",
    "sentence_searcher(txt, \"MAT\")\n",
    "sentence_searcher(txt, \"things\")\n",
    "sentence_searcher(txt, \"flat\")"
   ]
  },
  {
   "cell_type": "code",
   "execution_count": null,
   "id": "e4cb5b97",
   "metadata": {},
   "outputs": [],
   "source": [
    "#3. Given a number, find the \"round \"of each digit of the number. An integer is called \"round\" if all its digits except the leftmost (most significant) are equal to zero.\n",
    "- Round numbers: 4000, 1, 9, 800, 90\n",
    "- Not round numbers: 110, 707, 222, 1001\n",
    "Create a function that takes a number and returns the \"round\" of each digit (except if the digit is zero) as a string. Check out the following examples for more clarification.\n",
    "\n",
    "Examples:\n",
    "sum_round(101) ➞ \"1 100\"\n",
    "sum_round(1234) ➞ \"4 30 200 1000\"\n",
    "sum_round(54210) ➞ \"10 200 4000 50000\""
   ]
  },
  {
   "cell_type": "code",
   "execution_count": 11,
   "id": "b9fe2f03",
   "metadata": {},
   "outputs": [
    {
     "name": "stdout",
     "output_type": "stream",
     "text": [
      "sum_round(101) ➞ 1 100\n",
      "sum_round(1234) ➞ 4 30 200 1000\n",
      "sum_round(54210) ➞ 10 200 4000 50000\n"
     ]
    }
   ],
   "source": [
    "#Ans_3\n",
    "def sum_round(num):\n",
    "    output = []\n",
    "    num = str(num)\n",
    "    for i in range(len(num)):\n",
    "        if num[i] != '0':\n",
    "            output.append(num[i]+len(num[i+1:])*'0')\n",
    "    print(f'sum_round({num}) ➞ {\" \".join(output[::-1])}')\n",
    "        \n",
    "sum_round(101)\n",
    "sum_round(1234)\n",
    "sum_round(54210)"
   ]
  },
  {
   "cell_type": "code",
   "execution_count": null,
   "id": "a3d58d21",
   "metadata": {},
   "outputs": [],
   "source": [
    "#4. Your task, is to create N x N multiplication table, of size n provided in parameter.\n",
    "For example, when n is 5, the multiplication table is:\n",
    "\n",
    "1, 2, 3, 4, 5\n",
    "2, 4, 6, 8, 10\n",
    "3, 6, 9, 12, 15\n",
    "4, 8, 12, 16, 20\n",
    "5, 10, 15, 20, 25\n",
    "This example will result in:[[1, 2, 3, 4, 5], [2, 4, 6, 8, 10], [3, 6, 9, 12, 15], [4, 8, 12, 16, 20], [5, 10, 15, 20, 25]]\n",
    "Examples:\n",
    "multiplication_table(1) ➞ [[1]]\n",
    "multiplication_table(3) ➞ [[1, 2, 3], [2, 4, 6], [3, 6, 9]]"
   ]
  },
  {
   "cell_type": "code",
   "execution_count": 15,
   "id": "719a0c65",
   "metadata": {},
   "outputs": [
    {
     "name": "stdout",
     "output_type": "stream",
     "text": [
      "multiplication_table(3) ➞ [[1, 2, 3], [2, 4, 6], [3, 6, 9]]\n",
      "multiplication_table(1) ➞ [[1]]\n",
      "multiplication_table(5) ➞ [[1, 2, 3, 4, 5], [2, 4, 6, 8, 10], [3, 6, 9, 12, 15], [4, 8, 12, 16, 20], [5, 10, 15, 20, 25]]\n"
     ]
    }
   ],
   "source": [
    "#Ans_4\n",
    "def multiplication_table(num):\n",
    "    out_list =[]\n",
    "    for i in range(1,num+1):\n",
    "        temp_list = []\n",
    "        for b in range(1,num+1):\n",
    "            temp_list.append(i*b)\n",
    "        out_list.append(temp_list)\n",
    "    print(f'multiplication_table({num}) ➞ {out_list}')\n",
    "        \n",
    "multiplication_table(3) \n",
    "multiplication_table(1)\n",
    "multiplication_table(5)"
   ]
  },
  {
   "cell_type": "code",
   "execution_count": null,
   "id": "8b249bf4",
   "metadata": {},
   "outputs": [],
   "source": [
    "#5. Create a function that returns True if two lines rhyme and False otherwise. For the purposes of this exercise, two lines rhyme if the last word from each sentence contains the same vowels.\n",
    "Examples:\n",
    "does_rhyme(\"Sam I am!\", \"Green eggs and ham.\") ➞ True\n",
    "does_rhyme(\"Sam I am!\", \"Green eggs and HAM.\") ➞ True\n",
    "# Capitalization and punctuation should not matter.\n",
    "does_rhyme(\"You are off to the races\", \"a splendid day.\") ➞ False\n",
    "does_rhyme(\"and frequently do?\", \"you gotta move.\") ➞ False"
   ]
  },
  {
   "cell_type": "code",
   "execution_count": 23,
   "id": "fd0ce8e1",
   "metadata": {},
   "outputs": [
    {
     "name": "stdout",
     "output_type": "stream",
     "text": [
      "does_rhyme('Sam I am!', 'Green eggs and ham.') ➞ True\n",
      "does_rhyme('Sam I am!', 'Green eggs and HAM.') ➞ True\n",
      "does_rhyme('You are off to the races', 'a splendid day.') ➞ False\n",
      "does_rhyme('and frequently do?', 'you gotta move.') ➞ False\n"
     ]
    }
   ],
   "source": [
    "#Ans_5\n",
    "def does_rhyme(one,two):\n",
    "    vowels = 'aeiou'\n",
    "    output= False\n",
    "    one_rhyme = [x.lower() for x in one.split(\" \")[-1] if x.lower() in vowels]\n",
    "    two_rhyme = [x.lower() for x in two.split(\" \")[-1] if x.lower() in vowels]\n",
    "    if one_rhyme == two_rhyme:\n",
    "        output = True\n",
    "    print(f'does_rhyme{one,two} ➞ {output}')\n",
    "    \n",
    "does_rhyme(\"Sam I am!\", \"Green eggs and ham.\")\n",
    "does_rhyme(\"Sam I am!\", \"Green eggs and HAM.\")\n",
    "does_rhyme(\"You are off to the races\", \"a splendid day.\")\n",
    "does_rhyme(\"and frequently do?\", \"you gotta move.\")"
   ]
  },
  {
   "cell_type": "code",
   "execution_count": null,
   "id": "f64d0ffe",
   "metadata": {},
   "outputs": [],
   "source": []
  }
 ],
 "metadata": {
  "kernelspec": {
   "display_name": "Python 3",
   "language": "python",
   "name": "python3"
  },
  "language_info": {
   "codemirror_mode": {
    "name": "ipython",
    "version": 3
   },
   "file_extension": ".py",
   "mimetype": "text/x-python",
   "name": "python",
   "nbconvert_exporter": "python",
   "pygments_lexer": "ipython3",
   "version": "3.8.8"
  }
 },
 "nbformat": 4,
 "nbformat_minor": 5
}
