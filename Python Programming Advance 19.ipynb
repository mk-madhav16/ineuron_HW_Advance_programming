{
 "cells": [
  {
   "cell_type": "code",
   "execution_count": null,
   "id": "bd89c979",
   "metadata": {},
   "outputs": [],
   "source": [
    "1. Create a checker board generator, which takes as inputs n and 2 elements to generate an n x n checkerboard with those two elements as alternating squares.\n",
    "Examples:\n",
    "checker_board(2, 7, 6) ➞ [\n",
    "  [7, 6],\n",
    "  [6, 7]\n",
    "]\n",
    "\n",
    "checker_board(3, \"A\", \"B\") ➞ [\n",
    "  [\"A\", \"B\", \"A\"],\n",
    "  [\"B\", \"A\", \"B\"],\n",
    "  [\"A\", \"B\", \"A\"]\n",
    "]\n",
    "\n",
    "checker_board(4, \"c\", \"d\") ➞ [\n",
    "  [\"c\", \"d\", \"c\", \"d\"],\n",
    "  [\"d\", \"c\", \"d\", \"c\"],\n",
    "  [\"c\", \"d\", \"c\", \"d\"],\n",
    "  [\"d\", \"c\", \"d\", \"c\"]\n",
    "]\n",
    "\n",
    "checker_board(4, \"c\", \"c\") ➞ \"invalid\""
   ]
  },
  {
   "cell_type": "code",
   "execution_count": 6,
   "id": "b5167636",
   "metadata": {},
   "outputs": [
    {
     "name": "stdout",
     "output_type": "stream",
     "text": [
      "checker_board(2, 7, 6) ➞ [[7, 6], [6, 7]]\n",
      "checker_board(3, 'A', 'B') ➞ [['A', 'B', 'A'], ['B', 'A', 'B'], ['A', 'B', 'A']]\n",
      "checker_board(4, 'c', 'd') ➞ [['c', 'd', 'c', 'd'], ['d', 'c', 'd', 'c'], ['c', 'd', 'c', 'd'], ['d', 'c', 'd', 'c']]\n",
      "checker_board(4, 'c', 'c') ➞ Invalid\n"
     ]
    }
   ],
   "source": [
    "#Ans_1\n",
    "def checker_board(grid_size,in_one,in_two):\n",
    "    if in_one != in_two:\n",
    "        input = [in_one,in_two]\n",
    "        output = []\n",
    "        for a in range(grid_size):\n",
    "            output.append([])\n",
    "            for b in range(grid_size):\n",
    "                output[a].append(input[(a+b)%2])\n",
    "    else:\n",
    "        output = 'Invalid'\n",
    "    print(f'checker_board{grid_size,in_one,in_two} ➞ {output}')\n",
    "    \n",
    "checker_board(2, 7, 6)\n",
    "checker_board(3, \"A\", \"B\")\n",
    "checker_board(4, \"c\", \"d\")\n",
    "checker_board(4, \"c\", \"c\")"
   ]
  },
  {
   "cell_type": "code",
   "execution_count": null,
   "id": "8c8c9896",
   "metadata": {},
   "outputs": [],
   "source": [
    "2. A string is an almost-palindrome if, by changing only one character, you can make it a palindrome. Create a function that returns True if a string is an almost-palindrome and False otherwise.\n",
    "Examples:\n",
    "almost_palindrome(\"abcdcbg\") ➞ True\n",
    "# Transformed to \"abcdcba\" by changing \"g\" to \"a\".\n",
    "\n",
    "almost_palindrome(\"abccia\") ➞ True\n",
    "# Transformed to \"abccba\" by changing \"i\" to \"b\".\n",
    "\n",
    "almost_palindrome(\"abcdaaa\") ➞ False\n",
    "# Can't be transformed to a palindrome in exactly 1 turn.\n",
    "\n",
    "almost_palindrome(\"1234312\") ➞ False"
   ]
  },
  {
   "cell_type": "code",
   "execution_count": 9,
   "id": "00f2fd6b",
   "metadata": {},
   "outputs": [
    {
     "name": "stdout",
     "output_type": "stream",
     "text": [
      "almost_palindrome(abcdcbg) ➞ True\n",
      "almost_palindrome(abccia) ➞ True\n",
      "almost_palindrome(abcdaaa) ➞ False\n",
      "almost_palindrome(1234312) ➞ False\n"
     ]
    }
   ],
   "source": [
    "#Ans_2\n",
    "def almost_palindrome(in_string):\n",
    "    in_string_rev = in_string[::-1]\n",
    "    count = 0\n",
    "    for i in range(len(in_string)):\n",
    "        if in_string[i] != in_string_rev[i]:\n",
    "            count +=1\n",
    "    output = True if count == 2 else False\n",
    "    print(f'almost_palindrome({in_string}) ➞ {output}')\n",
    "    \n",
    "almost_palindrome(\"abcdcbg\")\n",
    "almost_palindrome(\"abccia\")\n",
    "almost_palindrome(\"abcdaaa\")\n",
    "almost_palindrome(\"1234312\")"
   ]
  },
  {
   "cell_type": "code",
   "execution_count": null,
   "id": "533f85d7",
   "metadata": {},
   "outputs": [],
   "source": [
    "3. Create a function that finds how many prime numbers there are, up to the given integer.\n",
    "Examples:\n",
    "prime_numbers(10) ➞ 4 # 2, 3, 5 and 7\n",
    "prime_numbers(20) ➞ 8 # 2, 3, 5, 7, 11, 13, 17 and 19\n",
    "prime_numbers(30) ➞ 10 # 2, 3, 5, 7, 11, 13, 17, 19, 23 and 29"
   ]
  },
  {
   "cell_type": "code",
   "execution_count": 12,
   "id": "84a86fcc",
   "metadata": {},
   "outputs": [
    {
     "name": "stdout",
     "output_type": "stream",
     "text": [
      "prime_numbers(10) ➞ 4\n",
      "prime_numbers(20) ➞ 8\n",
      "prime_numbers(30) ➞ 10\n"
     ]
    }
   ],
   "source": [
    "#Ans_3\n",
    "def prime_numbers(in_num):\n",
    "    out_num = 0\n",
    "    out_list = [2,3]\n",
    "    for i in range(1,in_num+1):\n",
    "        if i <= 3 and i > 0:\n",
    "            out_num = 2 if i==3 else 1 if i ==2 else 0\n",
    "        elif i > 3 and (((i-1)%6 == 0) or ((i+1)%6 == 0)):\n",
    "            out_num +=1\n",
    "            out_list.append(i)    \n",
    "    for top in out_list:\n",
    "        for bottom in out_list:\n",
    "            if top != bottom:\n",
    "                if top%bottom == 0:\n",
    "                    out_num -= 1\n",
    "    print(f'prime_numbers({in_num}) ➞ {out_num}')\n",
    "        \n",
    "prime_numbers(10)     \n",
    "prime_numbers(20)\n",
    "prime_numbers(30)"
   ]
  },
  {
   "cell_type": "code",
   "execution_count": null,
   "id": "5cd849b1",
   "metadata": {},
   "outputs": [],
   "source": [
    "4. If today was Monday, in two days, it would be Wednesday.\n",
    "Create a function that takes in a list of days as input and the number of days to increment by. Return a list of days after n number of days has passed.\n",
    "\n",
    "Examples:\n",
    "after_n_days([\"Thursday\", \"Monday\"], 4) ➞ [\"Monday\", \"Friday\"]\n",
    "after_n_days([\"Sunday\", \"Sunday\", \"Sunday\"], 1) ➞ [\"Monday\", \"Monday\", \"Monday\"]\n",
    "after_n_days([\"Monday\", \"Tuesday\", \"Friday\"], 1) ➞ [\"Tuesday\", \"Wednesday\", \"Saturday\"]\n"
   ]
  },
  {
   "cell_type": "code",
   "execution_count": 16,
   "id": "5e515bed",
   "metadata": {},
   "outputs": [
    {
     "name": "stdout",
     "output_type": "stream",
     "text": [
      "after_n_days(['Thursday', 'Monday'], 4) ➞ ['Monday', 'Friday']\n",
      "after_n_days(['Sunday', 'Sunday', 'Sunday'], 1) ➞ ['Monday', 'Monday', 'Monday']\n",
      "after_n_days(['Monday', 'Tuesday', 'Friday'], 1) ➞ ['Tuesday', 'Wednesday', 'Saturday']\n"
     ]
    }
   ],
   "source": [
    "#Ans_4\n",
    "def after_n_days(in_list,in_num):\n",
    "    week_dict = {0:'Sunday',1:'Monday',2:'Tuesday',3:'Wednesday',4:'Thursday',5:'Friday',6:'Saturday'}\n",
    "    week_days_no = list(week_dict.keys())\n",
    "    week_days_name = list(week_dict.values())\n",
    "    output = []\n",
    "    for i in in_list:\n",
    "        output.append(week_dict[(week_days_name.index(i)+in_num)%7])\n",
    "    print(f'after_n_days{in_list,in_num} ➞ {output}')\n",
    "    \n",
    "after_n_days([\"Thursday\", \"Monday\"], 4)\n",
    "after_n_days([\"Sunday\", \"Sunday\", \"Sunday\"], 1)\n",
    "after_n_days([\"Monday\", \"Tuesday\", \"Friday\"], 1)"
   ]
  },
  {
   "cell_type": "code",
   "execution_count": null,
   "id": "6b20e273",
   "metadata": {},
   "outputs": [],
   "source": [
    "5. You are in the process of creating a chat application and want to add an anonymous name feature. This anonymous name feature will create an alias that consists of two capitalized words beginning with the same letter as the users first name.\n",
    "Create a function that determines if the list of users is mapped to a list of anonymous names correctly.\n",
    "\n",
    "Examples:\n",
    "is_correct_aliases([\"Adrian M.\", \"Harriet S.\", \"Mandy T.\"], [\"Amazing Artichoke\", \"Hopeful Hedgehog\", \"Marvelous Mouse\"]) ➞ True\n",
    "\n",
    "is_correct_aliases([\"Rachel F.\", \"Pam G.\", \"Fred Z.\", \"Nancy K.\"], [\"Reassuring Rat\", \"Peaceful Panda\", \"Fantastic Frog\", \"Notable Nickel\"]) ➞ True\n",
    "\n",
    "is_correct_aliases([\"Beth T.\"], [\"Brandishing Mimosa\"]) ➞ False\n",
    "# Both words in \"Brandishing Mimosa\" should begin with a \"B\" - \"Brandishing Beaver\" would do the trick."
   ]
  },
  {
   "cell_type": "code",
   "execution_count": 17,
   "id": "7153c335",
   "metadata": {},
   "outputs": [
    {
     "name": "stdout",
     "output_type": "stream",
     "text": [
      "correct_aliases(['Beth T.'], ['Brandishing Mimosa'])➞False\n",
      "correct_aliases(['Adrian M.', 'Harriet S.', 'Mandy T.'], ['Amazing Artichoke', 'Hopeful Hedgehog', 'Marvelous Mouse'])➞True\n",
      "correct_aliases(['Rachel F.', 'Pam G.', 'Fred Z.', 'Nancy K.'], ['Reassuring Rat', 'Peaceful Panda', 'Fantastic Frog', 'Notable Nickel'])➞True\n"
     ]
    }
   ],
   "source": [
    "#Ans_5\n",
    "def correct_aliases(in_list_one, in_list_two):\n",
    "    output = False\n",
    "    if len(in_list_one) == len(in_list_two):\n",
    "        for i in range(len(in_list_one)):\n",
    "            if in_list_one[i].split(\" \")[0][0] == in_list_two[i].split(\" \")[0][0] == in_list_two[i].split(\" \")[1][0]:\n",
    "                output = True\n",
    "            else:\n",
    "                output = False\n",
    "                break\n",
    "    print(f'correct_aliases{in_list_one,in_list_two}➞{output}')\n",
    "\n",
    "correct_aliases([\"Beth T.\"],[\"Brandishing Mimosa\"])\n",
    "correct_aliases([\"Adrian M.\",\"Harriet S.\",\"Mandy T.\"], [\"Amazing Artichoke\", \"Hopeful Hedgehog\", \"Marvelous Mouse\"])\n",
    "correct_aliases([\"Rachel F.\",\"Pam G.\",\"Fred Z.\",\"Nancy K.\"], [\"Reassuring Rat\", \"Peaceful Panda\", \"Fantastic Frog\", \"Notable Nickel\"])"
   ]
  },
  {
   "cell_type": "code",
   "execution_count": null,
   "id": "5c4d754a",
   "metadata": {},
   "outputs": [],
   "source": []
  },
  {
   "cell_type": "code",
   "execution_count": null,
   "id": "d8925a9f",
   "metadata": {},
   "outputs": [],
   "source": []
  },
  {
   "cell_type": "code",
   "execution_count": null,
   "id": "f1af2b74",
   "metadata": {},
   "outputs": [],
   "source": []
  }
 ],
 "metadata": {
  "kernelspec": {
   "display_name": "Python 3",
   "language": "python",
   "name": "python3"
  },
  "language_info": {
   "codemirror_mode": {
    "name": "ipython",
    "version": 3
   },
   "file_extension": ".py",
   "mimetype": "text/x-python",
   "name": "python",
   "nbconvert_exporter": "python",
   "pygments_lexer": "ipython3",
   "version": "3.8.8"
  }
 },
 "nbformat": 4,
 "nbformat_minor": 5
}
