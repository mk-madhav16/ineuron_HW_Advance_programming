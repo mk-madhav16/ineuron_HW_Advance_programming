{
 "cells": [
  {
   "cell_type": "code",
   "execution_count": null,
   "id": "da68c348",
   "metadata": {},
   "outputs": [],
   "source": [
    "1. Create a function that takes a list and string. The function should remove the letters in the string from the list, and return the list.\n",
    "Examples:\n",
    "remove_letters([\"s\", \"t\", \"r\", \"i\", \"n\", \"g\", \"w\"], \"string\") ➞ [\"w\"]\n",
    "remove_letters([\"b\", \"b\", \"l\", \"l\", \"g\", \"n\", \"o\", \"a\", \"w\"], \"balloon\") ➞ [\"b\", \"g\", \"w\"]\n",
    "remove_letters([\"d\", \"b\", \"t\", \"e\", \"a\", \"i\"], \"edabit\") ➞ []"
   ]
  },
  {
   "cell_type": "code",
   "execution_count": 4,
   "id": "15a3986f",
   "metadata": {},
   "outputs": [
    {
     "name": "stdout",
     "output_type": "stream",
     "text": [
      "remove_letters(['s', 't', 'r', 'i', 'n', 'g', 'w'], 'string') ➞ ['w']\n",
      "remove_letters(['b', 'b', 'l', 'l', 'g', 'n', 'o', 'a', 'w'], 'balloon') ➞ ['b', 'g', 'w']\n",
      "remove_letters(['d', 'b', 't', 'e', 'a', 'i'], 'edabit') ➞ []\n"
     ]
    }
   ],
   "source": [
    "#Ans_1\n",
    "def remove_letters(in_list,in_string):\n",
    "    in_list_copy = in_list.copy()\n",
    "    for i in in_string:\n",
    "        if i in in_list:\n",
    "            in_list.remove(i)\n",
    "    print(f'remove_letters{in_list_copy,in_string} ➞ {in_list}')\n",
    "\n",
    "remove_letters([\"s\", \"t\", \"r\", \"i\", \"n\", \"g\", \"w\"], \"string\")\n",
    "remove_letters([\"b\", \"b\", \"l\", \"l\", \"g\", \"n\", \"o\", \"a\", \"w\"], \"balloon\")\n",
    "remove_letters([\"d\", \"b\", \"t\", \"e\", \"a\", \"i\"], \"edabit\")"
   ]
  },
  {
   "cell_type": "code",
   "execution_count": null,
   "id": "f9a4195d",
   "metadata": {},
   "outputs": [],
   "source": [
    "2. A block sequence in three dimensions. We can write a formula for this one:\n",
    "image.png\n",
    "\n",
    "Create a function that takes a number (step) as an argument and returns the amount of blocks in that step.\n",
    "\n",
    "Examples:\n",
    "blocks(1) ➞ 5\n",
    "blocks(5) ➞ 39\n",
    "blocks(2) ➞ 12"
   ]
  },
  {
   "cell_type": "code",
   "execution_count": 8,
   "id": "536d6678",
   "metadata": {},
   "outputs": [
    {
     "name": "stdout",
     "output_type": "stream",
     "text": [
      "blocks(1) ➞ 5\n",
      "blocks(5) ➞ 39\n",
      "blocks(2) ➞ 12\n"
     ]
    }
   ],
   "source": [
    "#Ans_2\n",
    "def blocks(num):\n",
    "    depth = num*3+((num)-1)*1\n",
    "    height = [x for x in range(2,num+2)]\n",
    "    print(f'blocks({num}) ➞ {depth+sum(height)}')\n",
    "        \n",
    "blocks(1)\n",
    "blocks(5)\n",
    "blocks(2)"
   ]
  },
  {
   "cell_type": "code",
   "execution_count": null,
   "id": "55a1f8e3",
   "metadata": {},
   "outputs": [],
   "source": [
    "3. Create a function that subtracts one positive integer from another, without using any arithmetic operators such as -, %, /, +, etc.\n",
    "Examples:\n",
    "my_sub(5, 9) ➞ 4\n",
    "my_sub(10, 30) ➞ 20\n",
    "my_sub(0, 0) ➞ 0"
   ]
  },
  {
   "cell_type": "code",
   "execution_count": 12,
   "id": "632f82b4",
   "metadata": {},
   "outputs": [
    {
     "name": "stdout",
     "output_type": "stream",
     "text": [
      "my_sub(5, 9) ➞ 4\n",
      "my_sub(10, 30) ➞ 20\n",
      "my_sub(0, 0) ➞ 0\n"
     ]
    }
   ],
   "source": [
    "#Ans_3\n",
    "from operator import sub\n",
    "def my_sub(in_one,in_two):\n",
    "    output = sub(in_one,in_two) if in_one >= in_two else sub(in_two,in_one)\n",
    "    print(f'my_sub{in_one,in_two} ➞ {output}')\n",
    "    \n",
    "my_sub(5, 9)\n",
    "my_sub(10, 30)\n",
    "my_sub(0, 0)"
   ]
  },
  {
   "cell_type": "code",
   "execution_count": null,
   "id": "f807e3ca",
   "metadata": {},
   "outputs": [],
   "source": [
    "4. Create a function that takes a string containing money in dollars and pounds sterling (seperated by comma) and returns the sum of dollar bills only, as an integer.\n",
    "For the input string:\n",
    "\n",
    "Each amount is prefixed by the currency symbol: $ for dollars and £ for pounds.\n",
    "Thousands are represented by the suffix k. i.e. $4k = $4,000 and £40k = £40,000\n",
    "Examples:\n",
    "add_bill(\"d20,p40,p60,d50\") ➞ 20 + 50 = 70\n",
    "add_bill(\"p30,d20,p60,d150,p360\") ➞ 20  + 150 = 170\n",
    "add_bill(\"p30,d2k,p60,d200,p360\") ➞ 2 * 1000 + 200 = 2200"
   ]
  },
  {
   "cell_type": "code",
   "execution_count": 15,
   "id": "f179c75b",
   "metadata": {},
   "outputs": [
    {
     "name": "stdout",
     "output_type": "stream",
     "text": [
      "add_bill(d20,p40,p60,d50) ➞ 70\n",
      "add_bill(p30,d20,p60,d150,p360) ➞ 170\n",
      "add_bill(p30,d2k,p60,d200,p360) ➞ 2200\n"
     ]
    }
   ],
   "source": [
    "#Ans_4\n",
    "def add_bill(in_string):\n",
    "    out_num = 0\n",
    "    for i in in_string.split(\",\"):\n",
    "        if 'd' in i:\n",
    "            if 'k' in i:\n",
    "                out_num += int(i.replace('d','').replace('k',''))*1000                \n",
    "            else:\n",
    "                out_num += int(i.replace(\"d\",''))\n",
    "    print(f'add_bill({in_string}) ➞ {out_num}')\n",
    "    \n",
    "add_bill(\"d20,p40,p60,d50\")\n",
    "add_bill(\"p30,d20,p60,d150,p360\")\n",
    "add_bill(\"p30,d2k,p60,d200,p360\")"
   ]
  },
  {
   "cell_type": "code",
   "execution_count": null,
   "id": "aab6c060",
   "metadata": {},
   "outputs": [],
   "source": [
    "5. Create a function that flips a horizontal list into a vertical list, and a vertical list into a horizontal list.\n",
    "In other words, take an 1 x n list (1 row + n columns) and flip it into a n x 1 list (n rows and 1 column), and vice versa.\n",
    "\n",
    "Examples:\n",
    "flip_list([1, 2, 3, 4]) ➞ [[1], [2], [3], [4]] # Take a horizontal list and flip it vertical.\n",
    "flip_list([[5], [6], [9]]) ➞ [5, 6, 9] # Take a vertical list and flip it horizontal.\n",
    "flip_list([]) ➞ []"
   ]
  },
  {
   "cell_type": "code",
   "execution_count": 18,
   "id": "b16bbe53",
   "metadata": {},
   "outputs": [
    {
     "name": "stdout",
     "output_type": "stream",
     "text": [
      "flip_list([1, 2, 3, 4]) ➞ [[1], [2], [3], [4]]\n",
      "flip_list([[5], [6], [9]]) ➞ [5, 6, 9]\n",
      "flip_list([]) ➞ []\n"
     ]
    }
   ],
   "source": [
    "#Ans_5\n",
    "def flip_list(in_list):\n",
    "    if len(in_list) > 0:\n",
    "        output = [i[0] for i in in_list] if isinstance(in_list[0],list) else [[i] for i in in_list]\n",
    "    else:\n",
    "        output = []\n",
    "    print(f'flip_list({in_list}) ➞ {output}')\n",
    "        \n",
    "flip_list([1,2,3,4]) \n",
    "flip_list([[5],[6],[9]])\n",
    "flip_list([])"
   ]
  },
  {
   "cell_type": "code",
   "execution_count": null,
   "id": "3acfa87e",
   "metadata": {},
   "outputs": [],
   "source": []
  }
 ],
 "metadata": {
  "kernelspec": {
   "display_name": "Python 3",
   "language": "python",
   "name": "python3"
  },
  "language_info": {
   "codemirror_mode": {
    "name": "ipython",
    "version": 3
   },
   "file_extension": ".py",
   "mimetype": "text/x-python",
   "name": "python",
   "nbconvert_exporter": "python",
   "pygments_lexer": "ipython3",
   "version": "3.8.8"
  }
 },
 "nbformat": 4,
 "nbformat_minor": 5
}
